{
 "cells": [
  {
   "cell_type": "code",
   "execution_count": 1,
   "metadata": {},
   "outputs": [],
   "source": [
    "import numpy as np\n",
    "from sklearn import datasets\n",
    "from sklearn.decomposition import PCA\n",
    "import sklearn"
   ]
  },
  {
   "cell_type": "markdown",
   "metadata": {},
   "source": [
    "PCA\n",
    "--------\n",
    "\n",
    "Full proof from [My Github](https://davidkwon91.github.io/categories/ML/Principal-Components-Analysis/)"
   ]
  },
  {
   "cell_type": "code",
   "execution_count": 14,
   "metadata": {},
   "outputs": [
    {
     "data": {
      "text/plain": [
       "(150, 2)"
      ]
     },
     "execution_count": 14,
     "metadata": {},
     "output_type": "execute_result"
    }
   ],
   "source": [
    "iris = datasets.load_iris()\n",
    "iris\n",
    "\n",
    "X = iris.data[:,:2]\n",
    "y = iris.target\n",
    "\n",
    "#Centering X\n",
    "X_center = X - np.mean(X, axis=0)\n",
    "X_center.shape"
   ]
  },
  {
   "cell_type": "markdown",
   "metadata": {},
   "source": [
    "$$S_{2 x 2} = \\frac{1}{n-1}X_{2 x 150}^{T} X_{150x2}$$"
   ]
  },
  {
   "cell_type": "code",
   "execution_count": 3,
   "metadata": {},
   "outputs": [
    {
     "data": {
      "text/plain": [
       "array([[ 0.68569351, -0.042434  ],\n",
       "       [-0.042434  ,  0.18997942]])"
      ]
     },
     "execution_count": 3,
     "metadata": {},
     "output_type": "execute_result"
    }
   ],
   "source": [
    "#Convariance\n",
    "S = np.matmul(np.transpose(X_center), X_center)/(len(X_center)-1)\n",
    "S"
   ]
  },
  {
   "cell_type": "markdown",
   "metadata": {},
   "source": [
    "## Eigenvector\n",
    "\n",
    "$$det(S - \\lambda I) = 0$$"
   ]
  },
  {
   "cell_type": "code",
   "execution_count": 4,
   "metadata": {},
   "outputs": [
    {
     "data": {
      "text/plain": [
       "array([[ 0.99640834,  0.08467831],\n",
       "       [-0.08467831,  0.99640834]])"
      ]
     },
     "execution_count": 4,
     "metadata": {},
     "output_type": "execute_result"
    }
   ],
   "source": [
    "#Eigenvector\n",
    "eig_w,eig_v = np.linalg.eig(S)\n",
    "eig_v"
   ]
  },
  {
   "cell_type": "markdown",
   "metadata": {},
   "source": [
    "##  SVD\n",
    "$$A_{m x n} = U_{m x m} \\Sigma_{m x n} V_{n x m}^{T}$$"
   ]
  },
  {
   "cell_type": "markdown",
   "metadata": {},
   "source": [
    "\n",
    "$$S = X^{T}X = (U\\Sigma V^{T})^{T}(U \\Sigma V^{T}) \\\\ = (V\\Sigma^{T}U^{T})(U \\Sigma V^{T}) \\\\ = V(\\Sigma^{T}\\Sigma)V^{T}$$\n"
   ]
  },
  {
   "cell_type": "code",
   "execution_count": 6,
   "metadata": {},
   "outputs": [
    {
     "data": {
      "text/plain": [
       "array([[ 0.99640834,  0.08467831],\n",
       "       [-0.08467831,  0.99640834]])"
      ]
     },
     "execution_count": 6,
     "metadata": {},
     "output_type": "execute_result"
    }
   ],
   "source": [
    "#Singular Value Decomposition\n",
    "svd_u, svd_s, svd_v = sklearn.utils.extmath.randomized_svd(S, 2, flip_sign = False)\n",
    "\n",
    "np.transpose(svd_v)"
   ]
  },
  {
   "cell_type": "markdown",
   "metadata": {},
   "source": [
    "## PCA\n",
    "\n",
    "$$Y_{2x2} = X_{150x2}P_{2x2}$$\n",
    "$$S_{Y} = Y^{T}Y \\\\ = (XP)^{T}(XP) \\\\ = (P^{T}X^{T}XP) \\\\ = P^{T}S_{X}P \\\\ = P^{T}(\\Sigma^{T}\\Sigma)P \\\\ = V(\\Sigma^{T}\\Sigma)V^{T}$$"
   ]
  },
  {
   "cell_type": "markdown",
   "metadata": {},
   "source": [
    "$S_{Y}$ is a symmetric matrix because it's the covariance matrix of $Y$\n",
    "\n",
    "$$S_{Y} = S_{Y}^{T}$$\n",
    "\n",
    "Let assume that $P$ is eigen matrix of $S_{X}$\n",
    "\n",
    "and $S_{Y} = P^{-1}S_{X}P$ by definition of EigenDecomposition\n",
    "\n",
    "Then,\n",
    "\n",
    "$$S_{Y}^{T} = (P^{-1}S_{X}P)^{T} \\\\ = P^{T}S_{X}^{T}(P^{-1})^{T}$$\n",
    "\n",
    "From above,\n",
    "\n",
    "$$S_{Y} = P^{T}S_{X}P$$\n",
    "\n",
    "$$\\therefore (P^{-1})^{T} = P$$\n",
    "\n",
    "Therefore, $P$ is orthonormal matrix, and it will become our PCA components\n",
    "\n",
    "Here, P is eigen matrix of covariance matrix of X and $P = V^{T}$ from SVD"
   ]
  },
  {
   "cell_type": "code",
   "execution_count": 12,
   "metadata": {},
   "outputs": [
    {
     "data": {
      "text/plain": [
       "True"
      ]
     },
     "execution_count": 12,
     "metadata": {},
     "output_type": "execute_result"
    }
   ],
   "source": [
    "#PCA from eignvector of covariance of X\n",
    "np.allclose(PCA().fit_transform(X_center),np.matmul(X_center, eig_v))"
   ]
  },
  {
   "cell_type": "code",
   "execution_count": 13,
   "metadata": {},
   "outputs": [
    {
     "data": {
      "text/plain": [
       "True"
      ]
     },
     "execution_count": 13,
     "metadata": {},
     "output_type": "execute_result"
    }
   ],
   "source": [
    "#PCA from SVD of covariance of X\n",
    "np.allclose(PCA().fit_transform(X_center),np.matmul(X_center, np.transpose(svd_v)))"
   ]
  }
 ],
 "metadata": {
  "kernelspec": {
   "display_name": "Python 3",
   "language": "python",
   "name": "python3"
  },
  "language_info": {
   "codemirror_mode": {
    "name": "ipython",
    "version": 3
   },
   "file_extension": ".py",
   "mimetype": "text/x-python",
   "name": "python",
   "nbconvert_exporter": "python",
   "pygments_lexer": "ipython3",
   "version": "3.7.7"
  }
 },
 "nbformat": 4,
 "nbformat_minor": 4
}
